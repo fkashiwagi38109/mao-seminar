{
  "nbformat": 4,
  "nbformat_minor": 0,
  "metadata": {
    "colab": {
      "name": "Untitled6.ipynb",
      "version": "0.3.2",
      "provenance": [],
      "include_colab_link": true
    },
    "kernelspec": {
      "name": "python3",
      "display_name": "Python 3"
    }
  },
  "cells": [
    {
      "cell_type": "markdown",
      "metadata": {
        "id": "view-in-github",
        "colab_type": "text"
      },
      "source": [
        "[View in Colaboratory](https://colab.research.google.com/github/fkashiwagi38109/mao-seminar/blob/master/activation_func.ipynb)"
      ]
    },
    {
      "metadata": {
        "id": "w10yCFyofoO7",
        "colab_type": "code",
        "colab": {
          "base_uri": "https://localhost:8080/",
          "height": 347
        },
        "outputId": "e5b5d1ce-2489-4dc5-f4bd-f4bdd4aca115"
      },
      "cell_type": "code",
      "source": [
        "import numpy as np\n",
        "import matplotlib.pylab as plt\n",
        "\n",
        "# ステップ関数\n",
        "def step_function(x):\n",
        "    y = x > 0\n",
        "    return y.astype(np.int)\n",
        "\n",
        "      \n",
        "# シグモイド関数\n",
        "\n",
        "\n",
        "\n",
        "x = np.arange(-5, 5, 0.1)\n",
        "y = step_function(x)\n",
        "plt.plot(x,y)\n",
        "plt.ylim(-0.1,1.1)      # Y軸の範囲を指定\n",
        "plt.show()\n",
        "\n",
        "\n"
      ],
      "execution_count": 2,
      "outputs": [
        {
          "output_type": "display_data",
          "data": {
            "image/png": "[encoded data removed]",
            "text/plain": [
              "<matplotlib.figure.Figure at 0x7f90f4110438>"
            ]
          },
          "metadata": {
            "tags": []
          }
        }
      ]
    }
  ]
}