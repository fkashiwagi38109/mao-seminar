{
  "nbformat": 4,
  "nbformat_minor": 0,
  "metadata": {
    "colab": {
      "name": "Untitled2.ipynb",
      "version": "0.3.2",
      "provenance": [],
      "include_colab_link": true
    },
    "kernelspec": {
      "name": "python3",
      "display_name": "Python 3"
    }
  },
  "cells": [
    {
      "cell_type": "markdown",
      "metadata": {
        "id": "view-in-github",
        "colab_type": "text"
      },
      "source": [
        "[View in Colaboratory](https://colab.research.google.com/github/fkashiwagi38109/mao-seminar/blob/master/Untitled2.ipynb)"
      ]
    },
    {
      "metadata": {
        "id": "m2Ch8pxBsMK_",
        "colab_type": "code",
        "colab": {
          "base_uri": "https://localhost:8080/",
          "height": 68
        },
        "outputId": "573455c3-7d2b-4fab-b07a-b2683bca6a8e"
      },
      "cell_type": "code",
      "source": [
        "import numpy as np\n",
        "\n",
        "X=np.random.rand(2)\n",
        "W=np.random.rand(2,3)\n",
        "B=np.random.rand(3)\n",
        "Y=np.dot(X, W) + B\n",
        "\n",
        "print(X)\n",
        "print(W)\n"
      ],
      "execution_count": 15,
      "outputs": [
        {
          "output_type": "stream",
          "text": [
            "[0.97144183 0.70923021]\n",
            "[[0.10038398 0.11243027 0.85219847]\n",
            " [0.01364359 0.54937022 0.32295225]]\n"
          ],
          "name": "stdout"
        }
      ]
    },
    {
      "metadata": {
        "id": "UJUnxBvDt5ve",
        "colab_type": "code",
        "colab": {
          "base_uri": "https://localhost:8080/",
          "height": 51
        },
        "outputId": "c3f6feed-d0b9-4b01-f80a-de5986356f72"
      },
      "cell_type": "code",
      "source": [
        "import numpy as np\n",
        "\n",
        "X=np.random.rand(2,1)\n",
        "\n",
        "print(X)\n",
        "\n",
        "\n"
      ],
      "execution_count": 14,
      "outputs": [
        {
          "output_type": "stream",
          "text": [
            "[[0.56706444]\n",
            " [0.95046015]]\n"
          ],
          "name": "stdout"
        }
      ]
    }
  ]
}